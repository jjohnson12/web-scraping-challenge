{
 "cells": [
  {
   "cell_type": "code",
   "execution_count": null,
   "metadata": {},
   "outputs": [],
   "source": [
    "##Jason Johnson was here."
   ]
  },
  {
   "cell_type": "code",
   "execution_count": 1,
   "metadata": {},
   "outputs": [],
   "source": [
    "# Dependencies\n",
    "\n",
    "import pandas as pd\n",
    "from bs4 import BeautifulSoup\n",
    "from splinter import Browser\n",
    "import requests\n",
    "import time\n"
   ]
  },
  {
   "cell_type": "markdown",
   "metadata": {},
   "source": [
    "## Scrape the [NASA Mars News Site](https://mars.nasa.gov/news/)"
   ]
  },
  {
   "cell_type": "code",
   "execution_count": 2,
   "metadata": {},
   "outputs": [],
   "source": [
    "#Scrape the [NASA Mars News Site](https://mars.nasa.gov/news/)\n",
    "#and collect the latest News Title and Paragraph Text. \n",
    "# Assign the text to variables that you can reference later."
   ]
  },
  {
   "cell_type": "code",
   "execution_count": 3,
   "metadata": {},
   "outputs": [
    {
     "name": "stdout",
     "output_type": "stream",
     "text": [
      "\n",
      "Testing Data Retrieval:....\n",
      "\n",
      "How NASA's Perseverance Mars Team Adjusted to Work in the Time of Coronavirus : Like much of the rest of the world, the Mars rover team is pushing forward with its mission-critical work while putting the health and safety of their colleagues and community first.\n"
     ]
    }
   ],
   "source": [
    "def init_browser():\n",
    "    return Browser(\"chrome\", headless=True)\n",
    "\n",
    "def news_scrape():\n",
    "    browser = init_browser() \n",
    "    url = \"https://mars.nasa.gov/news/\"\n",
    "    browser.visit(url)\n",
    "    \n",
    "    if browser.is_element_present_by_css('div.content_title', wait_time=3):\n",
    "        #First look for all of the html\n",
    "        html = browser.html\n",
    "        soup = BeautifulSoup(html, 'html.parser')\n",
    "\n",
    "        #what we are looking for is in a div, nested deep in a title\n",
    "        results = soup.find_all('div', class_='content_title')\n",
    "\n",
    "        #We do .text becasue we are pulling out the html text deep listed\n",
    "        news_title = results[1].text\n",
    "\n",
    "        #This will return a list for the article teaser body, which comes from the html code\n",
    "        results = soup.find_all('div', class_='article_teaser_body')\n",
    "\n",
    "        #This does not have a nested anchor so we will do results 0 here\n",
    "        news_paragraph = results[0].text\n",
    "\n",
    "    browser.quit()\n",
    "    return(f'{news_title}: {news_paragraph}')\n",
    "\n",
    "# TEST YOUR RESULTS!\n",
    "if __name__ == \"__main__\":\n",
    "    print(\"\\nTesting Data Retrieval:....\\n\")\n",
    "    print(news_scrape())    \n"
   ]
  },
  {
   "cell_type": "markdown",
   "metadata": {},
   "source": [
    "## JPL Mars Space Image - Featured Image"
   ]
  },
  {
   "cell_type": "code",
   "execution_count": null,
   "metadata": {},
   "outputs": [],
   "source": [
    "#JPL Mars Space Images - Featured Image\n",
    "#Visit the url for JPL Featured Space Image [here](https://www.jpl.nasa.gov/spaceimages/?search=&category=Mars).\n",
    "\n",
    "#Use splinter to navigate the site and find the image url for the current Featured Mars\n",
    "##Image and assign the url string to a variable called `featured_image_url`.\n",
    "\n",
    "#Make sure to find the image url to the full size `.jpg` image.\n",
    "\n",
    "#Make sure to save a complete url string for this image."
   ]
  },
  {
   "cell_type": "code",
   "execution_count": 4,
   "metadata": {},
   "outputs": [
    {
     "name": "stdout",
     "output_type": "stream",
     "text": [
      "\n",
      "Testing Data Retrieval:....\n",
      "\n",
      "https://www.jpl.nasa.gov/spaceimages/images/mediumsize/PIA19046_ip.jpg\n"
     ]
    }
   ],
   "source": [
    "def init_browser():\n",
    "    return Browser(\"chrome\", headless=True)\n",
    "\n",
    "def jpl_scrape():\n",
    "    browser = init_browser() \n",
    "    url = \"https://www.jpl.nasa.gov/spaceimages/?search=&category=Mars\"\n",
    "    browser.visit(url)\n",
    "\n",
    "    time.sleep(5)\n",
    "    results = browser.find_by_id('full_image')\n",
    "    img = results[0]\n",
    "    img.click()\n",
    "\n",
    "    time.sleep(5)\n",
    "    html = browser.html\n",
    "    soup = BeautifulSoup(html, 'html.parser')\n",
    "    featured_image_url = soup.find(\"img\", class_=\"fancybox-image\")[\"src\"]\n",
    "\n",
    "    base_url = 'https://www.jpl.nasa.gov'\n",
    "    full_featured_image_url = (f'{base_url}{featured_image_url}')\n",
    "    \n",
    "    browser.quit()\n",
    "\n",
    "    return(full_featured_image_url)\n",
    "\n",
    "# TEST YOUR RESULTS\n",
    "if __name__ == \"__main__\":\n",
    "    print(\"\\nTesting Data Retrieval:....\\n\")\n",
    "    print(jpl_scrape())    \n"
   ]
  },
  {
   "cell_type": "markdown",
   "metadata": {},
   "source": [
    "## Mars Weather"
   ]
  },
  {
   "cell_type": "code",
   "execution_count": null,
   "metadata": {},
   "outputs": [],
   "source": [
    "#Mars Weather\n",
    "\n",
    "#Visit the Mars Weather twitter account [here](https://twitter.com/marswxreport?lang=en)\n",
    "##and scrape the latest Mars weather tweet from the page. Save the tweet text for the \n",
    "##weather report as a variable called `mars_weather`.\n",
    "\n",
    "#Note: Be sure you are not signed in to twitter, or scraping may become more difficult.**\n",
    "\n",
    "#Note: Twitter frequently changes how information is presented on their website.\n",
    "\n",
    "##If you are having difficulty getting the correct html tag data, consider \n",
    "##researching Regular Expression Patterns and how they can be used in combination with the .find() method.**"
   ]
  },
  {
   "cell_type": "code",
   "execution_count": 5,
   "metadata": {},
   "outputs": [
    {
     "name": "stdout",
     "output_type": "stream",
     "text": [
      "\n",
      "Testing Data Retrieval:....\n",
      "\n",
      "InSight sol 504 (2020-04-27) low -93.6ºC (-136.5ºF) high -6.7ºC (20.0ºF)\n",
      "winds from the SW at 4.6 m/s (10.3 mph) gusting to 15.0 m/s (33.6 mph)\n",
      "pressure at 6.80 hPa\n",
      "\n"
     ]
    }
   ],
   "source": [
    "def init_browser():\n",
    "    return Browser(\"chrome\", headless=True)\n",
    "\n",
    "def twitter_scrape():\n",
    "    browser = init_browser() \n",
    "    url = \"https://twitter.com/marswxreport?lang=en\"\n",
    "    browser.visit(url)\n",
    "\n",
    "    xpath = '/html/body/div/div/div/div[2]/main/div/div/div/div/div/div/div/div/div[2]/section/div/div/div[1]/div/div/div/article/div/div[2]/div[2]/div[2]/div[1]/div/span'\n",
    "        #We found xpath from twitter, navigating to the first tweet, right click and copy full xpath\n",
    "        #this activates silenium, with a wait time of 10 seconds to let the page load\n",
    "        #This is the line that checks to exist it's real\n",
    "    if browser.is_element_present_by_xpath(xpath, wait_time=3):\n",
    "        #Select the html element we copied above\n",
    "        first_tweet = browser.find_by_xpath(xpath)\n",
    "        #this is the html of the first tweet\n",
    "        html = first_tweet.html\n",
    "        #Pass just the html we want to Beautiful Soup to return the result\n",
    "        soup = BeautifulSoup(html, 'html.parser')\n",
    "        mars_weather = (soup.prettify())\n",
    "    \n",
    "    browser.quit()\n",
    "\n",
    "    return(mars_weather)\n",
    "\n",
    "# TEST YOUR RESULTS\n",
    "if __name__ == \"__main__\":\n",
    "    print(\"\\nTesting Data Retrieval:....\\n\")\n",
    "    print(twitter_scrape())    \n"
   ]
  },
  {
   "cell_type": "markdown",
   "metadata": {},
   "source": [
    "## Mars Facts"
   ]
  },
  {
   "cell_type": "code",
   "execution_count": null,
   "metadata": {},
   "outputs": [],
   "source": [
    "### Mars Facts\n",
    "\n",
    "#Visit the Mars Facts webpage [here](https://space-facts.com/mars/)\n",
    "##and use Pandas to scrape the table containing facts about the planet including Diameter, Mass, etc.\n",
    "\n",
    "#Use Pandas to convert the data to a HTML table string."
   ]
  },
  {
   "cell_type": "code",
   "execution_count": 6,
   "metadata": {},
   "outputs": [
    {
     "name": "stdout",
     "output_type": "stream",
     "text": [
      "\n",
      "Testing Data Retrieval:....\n",
      "\n",
      "                      0                               1\n",
      "0  Equatorial Diameter:                        6,792 km\n",
      "1       Polar Diameter:                        6,752 km\n",
      "2                 Mass:  6.39 × 10^23 kg  (0.11 Earths)\n",
      "3                Moons:       2 (  Phobos  &  Deimos  )\n",
      "4       Orbit Distance:       227,943,824 km  (1.38 AU)\n"
     ]
    }
   ],
   "source": [
    "def fact_scrape():\n",
    "    # URL of page to be scraped\n",
    "    url = 'https://space-facts.com/mars/'\n",
    "\n",
    "    # Retrieve page with the requests module\n",
    "    response = requests.get(url)\n",
    "\n",
    "    # Create BeautifulSoup object; parse with 'lxml'\n",
    "    soup = BeautifulSoup(response.text, 'lxml')\n",
    "\n",
    "    mars_facts = pd.read_html(soup.prettify())[0]\n",
    "    mars_facts.to_html('mars_facts.html', index=False, header=False)\n",
    "    return(mars_facts.head())\n",
    "\n",
    "# TEST YOUR RESULTS\n",
    "if __name__ == \"__main__\":\n",
    "    print(\"\\nTesting Data Retrieval:....\\n\")\n",
    "    print(fact_scrape())    \n"
   ]
  },
  {
   "cell_type": "markdown",
   "metadata": {},
   "source": [
    "## Mars Hemispheres"
   ]
  },
  {
   "cell_type": "code",
   "execution_count": null,
   "metadata": {},
   "outputs": [],
   "source": [
    "### Mars Hemispheres\n",
    "\n",
    "#Visit the USGS Astrogeology site [here](https://astrogeology.usgs.gov/search/results?q=hemisphere+enhanced&k1=target&v1=Mars) to obtain high resolution images for each of Mar's hemispheres.\n",
    "\n",
    "#You will need to click each of the links to the hemispheres in order to\n",
    "#find the image url to the full resolution image.\n",
    "\n",
    "#Save both the image url string for the full resolution hemisphere image,\n",
    "#and the Hemisphere title containing the hemisphere name. \n",
    "#Use a Python dictionary to store the data using the keys `img_url` and `title`.\n",
    "\n",
    "#Append the dictionary with the image url string and the hemisphere \n",
    "#title to a list. This list will contain one dictionary for each hemisphere."
   ]
  },
  {
   "cell_type": "code",
   "execution_count": 7,
   "metadata": {},
   "outputs": [
    {
     "name": "stdout",
     "output_type": "stream",
     "text": [
      "\n",
      "Testing Data Retrieval:....\n",
      "\n",
      "[{'title': 'Valles Marineris Hemisphere Enhanced', 'img_url': 'http://astropedia.astrogeology.usgs.gov/download/Mars/Viking/valles_marineris_enhanced.tif'}, {'title': 'Cerberus Hemisphere Enhanced', 'img_url': 'http://astropedia.astrogeology.usgs.gov/download/Mars/Viking/cerberus_enhanced.tif'}, {'title': 'Schiaparelli Hemisphere Enhanced', 'img_url': 'http://astropedia.astrogeology.usgs.gov/download/Mars/Viking/schiaparelli_enhanced.tif'}, {'title': 'Syrtis Major Hemisphere Enhanced', 'img_url': 'http://astropedia.astrogeology.usgs.gov/download/Mars/Viking/syrtis_major_enhanced.tif'}]\n"
     ]
    }
   ],
   "source": [
    "def init_browser():\n",
    "    return Browser(\"chrome\", headless=True)\n",
    "\n",
    "def hemisphere_scrape():\n",
    "    browser = init_browser() \n",
    "    url = \"https://astrogeology.usgs.gov/search/results?q=hemisphere+enhanced&k1=target&v1=Mars\"\n",
    "    browser.visit(url)\n",
    "\n",
    "    #From home page to Cereberus\n",
    "    time.sleep(2)\n",
    "    results = browser.find_by_text('Cerberus Hemisphere Enhanced')\n",
    "    img = results[0]\n",
    "    img.click()\n",
    "    #Get link for Cereberus\n",
    "    time.sleep(2)\n",
    "    html = browser.html\n",
    "    soup = BeautifulSoup(html, 'html.parser')\n",
    "    cerberus_hemisphere_img = soup.find('a', string='Original').get('href')\n",
    "    cerberus_hemisphere_title = soup.find('h2', class_='title').text\n",
    "\n",
    "    # Back to main page\n",
    "    browser.back()\n",
    "\n",
    "    #From home page to Schiaparelli\n",
    "    time.sleep(2)\n",
    "    results = browser.find_by_text('Schiaparelli Hemisphere Enhanced')\n",
    "    img = results[0]\n",
    "    img.click()\n",
    "    #Get link for Schiaparelli\n",
    "    time.sleep(2)\n",
    "    html = browser.html\n",
    "    soup = BeautifulSoup(html, 'html.parser')\n",
    "    schiaparelli_hemisphere_img = soup.find('a', string='Original').get('href')\n",
    "    schiaparelli_hemisphere_title = soup.find('h2', class_='title').text\n",
    "\n",
    "    # Back to main page\n",
    "    browser.back()\n",
    "\n",
    "    #From home page to Syrtis Major\n",
    "    time.sleep(2)\n",
    "    results = browser.find_by_text('Syrtis Major Hemisphere Enhanced')\n",
    "    img = results[0]\n",
    "    img.click()\n",
    "    #Get link for Syrtis Major\n",
    "    time.sleep(2)\n",
    "    html = browser.html\n",
    "    soup = BeautifulSoup(html, 'html.parser')\n",
    "    syrtis_hemisphere_img = soup.find('a', string='Original').get('href')\n",
    "    syrtis_hemisphere_title = soup.find('h2', class_='title').text\n",
    "    \n",
    "    # Back to main page\n",
    "    browser.back()\n",
    "\n",
    "    #From home page to Valles Marineris\n",
    "    time.sleep(2)\n",
    "    results = browser.find_by_text('Valles Marineris Hemisphere Enhanced')\n",
    "    img = results[0]\n",
    "    img.click()\n",
    "    #Get link for Valles Marineris\n",
    "    time.sleep(2)\n",
    "    html = browser.html\n",
    "    soup = BeautifulSoup(html, 'html.parser')\n",
    "    valles_hemisphere_img = soup.find('a', string='Original').get('href')\n",
    "    valles_hemisphere_title = soup.find('h2', class_='title').text\n",
    "\n",
    "    browser.quit()\n",
    "    \n",
    "    hemisphere_image_urls = [\n",
    "    {\"title\": valles_hemisphere_title, \"img_url\": valles_hemisphere_img},\n",
    "    {\"title\": cerberus_hemisphere_title, \"img_url\": cerberus_hemisphere_img},\n",
    "    {\"title\": schiaparelli_hemisphere_title, \"img_url\": schiaparelli_hemisphere_img},\n",
    "    {\"title\": syrtis_hemisphere_title, \"img_url\": syrtis_hemisphere_img}\n",
    "]\n",
    "\n",
    "    return(hemisphere_image_urls)\n",
    "\n",
    "# TEST YOUR RESULTS\n",
    "if __name__ == \"__main__\":\n",
    "    print(\"\\nTesting Data Retrieval:....\\n\")\n",
    "    print(hemisphere_scrape())\n",
    "    "
   ]
  },
  {
   "cell_type": "code",
   "execution_count": null,
   "metadata": {},
   "outputs": [],
   "source": []
  }
 ],
 "metadata": {
  "kernelspec": {
   "display_name": "Python 3",
   "language": "python",
   "name": "python3"
  },
  "language_info": {
   "codemirror_mode": {
    "name": "ipython",
    "version": 3
   },
   "file_extension": ".py",
   "mimetype": "text/x-python",
   "name": "python",
   "nbconvert_exporter": "python",
   "pygments_lexer": "ipython3",
   "version": "3.7.4"
  }
 },
 "nbformat": 4,
 "nbformat_minor": 2
}
